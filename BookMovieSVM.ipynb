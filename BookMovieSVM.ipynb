{
 "cells": [
  {
   "cell_type": "code",
   "execution_count": 5,
   "outputs": [
    {
     "data": {
      "text/plain": "   Class                                               Data\n0      1  this was the first clive cussler i've ever rea...\n1      1                   i liked the Da Vinci Code a lot.\n2      1                   i liked the Da Vinci Code a lot.\n3      1  I liked the Da Vinci Code but it ultimatly did...\n4      1  that's not even an exaggeration ) and at midni...",
      "text/html": "<div>\n<style scoped>\n    .dataframe tbody tr th:only-of-type {\n        vertical-align: middle;\n    }\n\n    .dataframe tbody tr th {\n        vertical-align: top;\n    }\n\n    .dataframe thead th {\n        text-align: right;\n    }\n</style>\n<table border=\"1\" class=\"dataframe\">\n  <thead>\n    <tr style=\"text-align: right;\">\n      <th></th>\n      <th>Class</th>\n      <th>Data</th>\n    </tr>\n  </thead>\n  <tbody>\n    <tr>\n      <th>0</th>\n      <td>1</td>\n      <td>this was the first clive cussler i've ever rea...</td>\n    </tr>\n    <tr>\n      <th>1</th>\n      <td>1</td>\n      <td>i liked the Da Vinci Code a lot.</td>\n    </tr>\n    <tr>\n      <th>2</th>\n      <td>1</td>\n      <td>i liked the Da Vinci Code a lot.</td>\n    </tr>\n    <tr>\n      <th>3</th>\n      <td>1</td>\n      <td>I liked the Da Vinci Code but it ultimatly did...</td>\n    </tr>\n    <tr>\n      <th>4</th>\n      <td>1</td>\n      <td>that's not even an exaggeration ) and at midni...</td>\n    </tr>\n  </tbody>\n</table>\n</div>"
     },
     "metadata": {},
     "output_type": "execute_result",
     "execution_count": 5
    }
   ],
   "source": [
    "import pandas as pd\n",
    "df=pd.read_csv('dataset.txt',sep=\"\\t\")\n",
    "df.columns =['Class', 'Data']\n",
    "df.head()"
   ],
   "metadata": {
    "collapsed": false,
    "pycharm": {
     "name": "#%%\n",
     "is_executing": false
    }
   }
  },
  {
   "cell_type": "code",
   "execution_count": 6,
   "outputs": [
    {
     "data": {
      "text/plain": "1    3942\n0    2975\nName: Class, dtype: int64"
     },
     "metadata": {},
     "output_type": "execute_result",
     "execution_count": 6
    }
   ],
   "source": [
    "df[\"Class\"].value_counts()"
   ],
   "metadata": {
    "collapsed": false,
    "pycharm": {
     "name": "#%%\n",
     "is_executing": false
    }
   }
  },
  {
   "cell_type": "code",
   "execution_count": 7,
   "outputs": [],
   "source": [
    "from sklearn.model_selection import train_test_split\n",
    "x=df[\"Data\"]\n",
    "y=df[\"Class\"]\n",
    "x_train, x_test, y_train, y_test = train_test_split(x,y, test_size=0.20, random_state=40)"
   ],
   "metadata": {
    "collapsed": false,
    "pycharm": {
     "name": "#%%\n",
     "is_executing": false
    }
   }
  },
  {
   "cell_type": "code",
   "execution_count": 8,
   "outputs": [],
   "source": [
    "from sklearn.feature_extraction.text import TfidfVectorizer\n",
    "\n",
    "# Create feature vectors\n",
    "vectorizer = TfidfVectorizer(min_df = 5,\n",
    "                             stop_words = 'english',\n",
    "                             sublinear_tf = True,\n",
    "                             use_idf = True)\n",
    "train_vectors = vectorizer.fit_transform(x_train)\n",
    "test_vectors = vectorizer.transform(x_test)"
   ],
   "metadata": {
    "collapsed": false,
    "pycharm": {
     "name": "#%%\n",
     "is_executing": false
    }
   }
  },
  {
   "cell_type": "code",
   "execution_count": 9,
   "outputs": [
    {
     "name": "stdout",
     "text": [
      "  (0, 10)\t0.5739429223900745\n",
      "  (0, 115)\t0.5790464238031096\n",
      "  (0, 157)\t0.5790464238031096\n",
      "  (1, 19)\t0.31833344434027055\n",
      "  (1, 85)\t0.31833344434027055\n",
      "  (1, 134)\t0.19573497931610206\n",
      "  (1, 104)\t0.31833344434027055\n",
      "  (1, 42)\t0.31833344434027055\n",
      "  (1, 187)\t0.3174178749974887\n",
      "  (1, 239)\t0.3174178749974887\n",
      "  (1, 107)\t0.3174178749974887\n",
      "  (1, 207)\t0.31833344434027055\n",
      "  (1, 196)\t0.31220805244884003\n",
      "  (1, 115)\t0.16623886252432532\n",
      "  (1, 157)\t0.16623886252432532\n",
      "  (2, 160)\t0.3384964851257611\n",
      "  (2, 27)\t0.3384964851257611\n",
      "  (2, 143)\t0.36461623418135103\n",
      "  (2, 226)\t0.798683454746886\n",
      "  (3, 73)\t0.45332710414180877\n",
      "  (3, 41)\t0.6577746695627716\n",
      "  (3, 81)\t0.4522064528242367\n",
      "  (3, 161)\t0.283498611658866\n",
      "  (3, 160)\t0.19616941905353794\n",
      "  (3, 27)\t0.19616941905353794\n",
      "  :\t:\n",
      "  (5529, 119)\t0.31881125904568736\n",
      "  (5529, 40)\t0.31881125904568736\n",
      "  (5529, 129)\t0.31881125904568736\n",
      "  (5529, 102)\t0.31881125904568736\n",
      "  (5529, 96)\t0.3178823581163034\n",
      "  (5529, 116)\t0.31881125904568736\n",
      "  (5529, 22)\t0.31881125904568736\n",
      "  (5529, 105)\t0.31881125904568736\n",
      "  (5529, 37)\t0.31518163537404625\n",
      "  (5529, 217)\t0.22985069918820017\n",
      "  (5529, 160)\t0.13284514846990228\n",
      "  (5529, 27)\t0.13284514846990228\n",
      "  (5530, 225)\t0.577396395347261\n",
      "  (5530, 168)\t0.5791240213818781\n",
      "  (5530, 161)\t0.41133951766864235\n",
      "  (5530, 160)\t0.2846300859910985\n",
      "  (5530, 27)\t0.2846300859910985\n",
      "  (5531, 51)\t0.6720783901002846\n",
      "  (5531, 188)\t0.5711298480627949\n",
      "  (5531, 160)\t0.3332576587356836\n",
      "  (5531, 27)\t0.3332576587356836\n",
      "  (5532, 63)\t0.7128798221606271\n",
      "  (5532, 144)\t0.5624645715853822\n",
      "  (5532, 160)\t0.2961722175251294\n",
      "  (5532, 27)\t0.2961722175251294\n"
     ],
     "output_type": "stream"
    }
   ],
   "source": [
    "print(train_vectors)"
   ],
   "metadata": {
    "collapsed": false,
    "pycharm": {
     "name": "#%%\n",
     "is_executing": false
    }
   }
  },
  {
   "cell_type": "code",
   "execution_count": 10,
   "outputs": [],
   "source": [
    "import time\n",
    "from sklearn import svm\n",
    "from sklearn.metrics import classification_report\n",
    "# Perform classification with SVM, kernel=linear\n",
    "classifier_linear = svm.SVC(kernel='linear')\n",
    "t0 = time.time()\n",
    "classifier_linear.fit(train_vectors, y_train)\n",
    "t1 = time.time()\n"
   ],
   "metadata": {
    "collapsed": false,
    "pycharm": {
     "name": "#%%\n",
     "is_executing": false
    }
   }
  },
  {
   "cell_type": "code",
   "execution_count": 11,
   "outputs": [
    {
     "name": "stdout",
     "text": [
      "Training time: 0.504343s; Prediction time: 0.062959s\n",
      "{'0': {'precision': 0.9949066213921901, 'recall': 0.9898648648648649, 'f1-score': 0.9923793395427605, 'support': 592}, '1': {'precision': 0.9924528301886792, 'recall': 0.9962121212121212, 'f1-score': 0.9943289224952742, 'support': 792}, 'accuracy': 0.9934971098265896, 'macro avg': {'precision': 0.9936797257904346, 'recall': 0.993038493038493, 'f1-score': 0.9933541310190173, 'support': 1384}, 'weighted avg': {'precision': 0.9935024287381578, 'recall': 0.9934971098265896, 'f1-score': 0.9934949968392857, 'support': 1384}}\n",
      "positive:  {'precision': 0.9924528301886792, 'recall': 0.9962121212121212, 'f1-score': 0.9943289224952742, 'support': 792}\n",
      "negative:  {'precision': 0.9949066213921901, 'recall': 0.9898648648648649, 'f1-score': 0.9923793395427605, 'support': 592}\n"
     ],
     "output_type": "stream"
    }
   ],
   "source": [
    "prediction_linear = classifier_linear.predict(test_vectors)\n",
    "t2 = time.time()\n",
    "time_linear_train = t1-t0\n",
    "time_linear_predict = t2-t1\n",
    "# results\n",
    "print(\"Training time: %fs; Prediction time: %fs\" % (time_linear_train, time_linear_predict))\n",
    "report = classification_report(y_test, prediction_linear, output_dict=True)\n",
    "print(report)\n",
    "print('positive: ', report['1'])\n",
    "print('negative: ', report['0'])\n"
   ],
   "metadata": {
    "collapsed": false,
    "pycharm": {
     "name": "#%%\n",
     "is_executing": false
    }
   }
  },
  {
   "cell_type": "code",
   "execution_count": 11,
   "outputs": [],
   "source": [
    "\n",
    "\n",
    "\n",
    "\n"
   ],
   "metadata": {
    "collapsed": false,
    "pycharm": {
     "name": "#%%\n",
     "is_executing": false
    }
   }
  }
 ],
 "metadata": {
  "kernelspec": {
   "display_name": "Python 3",
   "language": "python",
   "name": "python3"
  },
  "language_info": {
   "codemirror_mode": {
    "name": "ipython",
    "version": 2
   },
   "file_extension": ".py",
   "mimetype": "text/x-python",
   "name": "python",
   "nbconvert_exporter": "python",
   "pygments_lexer": "ipython2",
   "version": "2.7.6"
  },
  "pycharm": {
   "stem_cell": {
    "cell_type": "raw",
    "source": [],
    "metadata": {
     "collapsed": false
    }
   }
  }
 },
 "nbformat": 4,
 "nbformat_minor": 0
}