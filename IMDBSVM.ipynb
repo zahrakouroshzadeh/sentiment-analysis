{
 "cells": [
  {
   "cell_type": "code",
   "execution_count": 2,
   "metadata": {
    "collapsed": true,
    "pycharm": {
     "is_executing": false
    }
   },
   "outputs": [
    {
     "data": {
      "text/plain": "   sentiment                                             review\n0          1  With all this stuff going down at the moment w...\n1          1  \\The Classic War of the Worlds\\\" by Timothy Hi...\n2          0  The film starts with a manager (Nicholas Bell)...\n3          0  It must be assumed that those who praised this...\n4          1  Superbly trashy and wondrously unpretentious 8...",
      "text/html": "<div>\n<style scoped>\n    .dataframe tbody tr th:only-of-type {\n        vertical-align: middle;\n    }\n\n    .dataframe tbody tr th {\n        vertical-align: top;\n    }\n\n    .dataframe thead th {\n        text-align: right;\n    }\n</style>\n<table border=\"1\" class=\"dataframe\">\n  <thead>\n    <tr style=\"text-align: right;\">\n      <th></th>\n      <th>sentiment</th>\n      <th>review</th>\n    </tr>\n  </thead>\n  <tbody>\n    <tr>\n      <th>0</th>\n      <td>1</td>\n      <td>With all this stuff going down at the moment w...</td>\n    </tr>\n    <tr>\n      <th>1</th>\n      <td>1</td>\n      <td>\\The Classic War of the Worlds\\\" by Timothy Hi...</td>\n    </tr>\n    <tr>\n      <th>2</th>\n      <td>0</td>\n      <td>The film starts with a manager (Nicholas Bell)...</td>\n    </tr>\n    <tr>\n      <th>3</th>\n      <td>0</td>\n      <td>It must be assumed that those who praised this...</td>\n    </tr>\n    <tr>\n      <th>4</th>\n      <td>1</td>\n      <td>Superbly trashy and wondrously unpretentious 8...</td>\n    </tr>\n  </tbody>\n</table>\n</div>"
     },
     "metadata": {},
     "output_type": "execute_result",
     "execution_count": 2
    }
   ],
   "source": [
    "import pandas as pd\n",
    "df=pd.read_csv(\"D://second//data mining//project//labeledTrainData.tsv\",sep=\"\\t\")\n",
    "df_test=pd.read_csv(\"D://second//data mining//project//testData.tsv\",sep=\"\\t\")\n",
    "df_test.head()\n",
    "df=df.drop(columns=['id'])\n",
    "df_test=df_test.drop(columns=['id'])\n",
    "df.head()"
   ]
  },
  {
   "cell_type": "code",
   "execution_count": 3,
   "outputs": [
    {
     "data": {
      "text/plain": "1    12500\n0    12500\nName: sentiment, dtype: int64"
     },
     "metadata": {},
     "output_type": "execute_result",
     "execution_count": 3
    }
   ],
   "source": [
    "df[\"sentiment\"].value_counts()"
   ],
   "metadata": {
    "collapsed": false,
    "pycharm": {
     "name": "#%%\n",
     "is_executing": false
    }
   }
  },
  {
   "cell_type": "code",
   "execution_count": 4,
   "outputs": [],
   "source": [
    "from sklearn.model_selection import train_test_split\n",
    "x=df[\"review\"]\n",
    "y=df[\"sentiment\"]\n",
    "x_train, x_test, y_train, y_test = train_test_split(x,y, test_size=0.20, random_state=40)"
   ],
   "metadata": {
    "collapsed": false,
    "pycharm": {
     "name": "#%%\n",
     "is_executing": false
    }
   }
  },
  {
   "cell_type": "code",
   "execution_count": 5,
   "outputs": [],
   "source": [
    "from sklearn.feature_extraction.text import TfidfVectorizer\n",
    "\n",
    "# Create feature vectors\n",
    "vectorizer = TfidfVectorizer(min_df = 5,\n",
    "                             stop_words = 'english',\n",
    "                             sublinear_tf = True,\n",
    "                             use_idf = True)\n",
    "train_vectors = vectorizer.fit_transform(x_train)\n",
    "test_vectors = vectorizer.transform(x_test)"
   ],
   "metadata": {
    "collapsed": false,
    "pycharm": {
     "name": "#%%\n",
     "is_executing": false
    }
   }
  },
  {
   "cell_type": "code",
   "execution_count": 6,
   "outputs": [
    {
     "name": "stdout",
     "text": [
      "  (0, 986)\t0.09408564883515874\n",
      "  (0, 8830)\t0.058621154015440304\n",
      "  (0, 11501)\t0.06245887754117831\n",
      "  (0, 5946)\t0.14121970235290024\n",
      "  (0, 321)\t0.096750298489556\n",
      "  (0, 15450)\t0.11508020927038647\n",
      "  (0, 20561)\t0.10794561050911058\n",
      "  (0, 15448)\t0.10420241139424538\n",
      "  (0, 20026)\t0.1007263358257183\n",
      "  (0, 22258)\t0.0657098022005259\n",
      "  (0, 7702)\t0.07923582967446778\n",
      "  (0, 7351)\t0.07563707339974676\n",
      "  (0, 2503)\t0.10919626410718401\n",
      "  (0, 14976)\t0.08336752163071381\n",
      "  (0, 8497)\t0.09240641565689334\n",
      "  (0, 12467)\t0.06697258697188185\n",
      "  (0, 6450)\t0.05566050111794641\n",
      "  (0, 12223)\t0.13148048938338128\n",
      "  (0, 7706)\t0.08832247320180209\n",
      "  (0, 11334)\t0.14729122375669365\n",
      "  (0, 22183)\t0.0972042635370822\n",
      "  (0, 10625)\t0.07019396743528156\n",
      "  (0, 9940)\t0.06532836787608463\n",
      "  (0, 14850)\t0.08043648397255054\n",
      "  (0, 10266)\t0.11843931740923745\n",
      "  :\t:\n",
      "  (19999, 21627)\t0.040954274229041944\n",
      "  (19999, 6225)\t0.09137166666357996\n",
      "  (19999, 7863)\t0.0442330203725497\n",
      "  (19999, 16623)\t0.08038603272291132\n",
      "  (19999, 23335)\t0.04337985396494316\n",
      "  (19999, 9260)\t0.04224942501118736\n",
      "  (19999, 481)\t0.04129011739510732\n",
      "  (19999, 17328)\t0.09642161519230014\n",
      "  (19999, 8216)\t0.022378392912521285\n",
      "  (19999, 3640)\t0.03722686810477366\n",
      "  (19999, 708)\t0.06835861849700875\n",
      "  (19999, 6492)\t0.056212036032548915\n",
      "  (19999, 11501)\t0.07815550261792469\n",
      "  (19999, 11972)\t0.05621769176922431\n",
      "  (19999, 14154)\t0.035560897575004774\n",
      "  (19999, 21768)\t0.02889751847533278\n",
      "  (19999, 9083)\t0.05448048847265199\n",
      "  (19999, 12531)\t0.03777979290968757\n",
      "  (19999, 6056)\t0.04218201933185705\n",
      "  (19999, 17257)\t0.05273584507604298\n",
      "  (19999, 2719)\t0.08170504901559121\n",
      "  (19999, 11827)\t0.06840856515227961\n",
      "  (19999, 8084)\t0.04673395188301891\n",
      "  (19999, 12760)\t0.04217167778817462\n",
      "  (19999, 12560)\t0.05209350826973359\n"
     ],
     "output_type": "stream"
    }
   ],
   "source": [
    "print(train_vectors)"
   ],
   "metadata": {
    "collapsed": false,
    "pycharm": {
     "name": "#%%\n",
     "is_executing": false
    }
   }
  },
  {
   "cell_type": "code",
   "execution_count": 7,
   "outputs": [],
   "source": [
    "import time\n",
    "from sklearn import svm\n",
    "from sklearn.metrics import classification_report\n",
    "# Perform classification with SVM, kernel=linear\n",
    "classifier_linear = svm.SVC(kernel='linear')\n",
    "t0 = time.time()\n",
    "classifier_linear.fit(train_vectors, y_train)\n",
    "t1 = time.time()\n"
   ],
   "metadata": {
    "collapsed": false,
    "pycharm": {
     "name": "#%%\n",
     "is_executing": false
    }
   }
  },
  {
   "cell_type": "code",
   "execution_count": 8,
   "outputs": [
    {
     "name": "stdout",
     "text": [
      "Training time: 351.728497s; Prediction time: 40.740626s\n",
      "{'0': {'precision': 0.8939575830332133, 'recall': 0.88300395256917, 'f1-score': 0.8884470073573275, 'support': 2530}, '1': {'precision': 0.8816473410635746, 'recall': 0.8927125506072875, 'f1-score': 0.8871454435727217, 'support': 2470}, 'accuracy': 0.8878, 'macro avg': {'precision': 0.887802462048394, 'recall': 0.8878582515882287, 'f1-score': 0.8877962254650247, 'support': 5000}, 'weighted avg': {'precision': 0.8878763235002117, 'recall': 0.8878, 'f1-score': 0.8878040348477323, 'support': 5000}}\n",
      "positive:  {'precision': 0.8816473410635746, 'recall': 0.8927125506072875, 'f1-score': 0.8871454435727217, 'support': 2470}\n",
      "negative:  {'precision': 0.8939575830332133, 'recall': 0.88300395256917, 'f1-score': 0.8884470073573275, 'support': 2530}\n"
     ],
     "output_type": "stream"
    }
   ],
   "source": [
    "prediction_linear = classifier_linear.predict(test_vectors)\n",
    "t2 = time.time()\n",
    "time_linear_train = t1-t0\n",
    "time_linear_predict = t2-t1\n",
    "# results\n",
    "print(\"Training time: %fs; Prediction time: %fs\" % (time_linear_train, time_linear_predict))\n",
    "report = classification_report(y_test, prediction_linear, output_dict=True)\n",
    "print('positive: ', report['1'])\n",
    "print('negative: ', report['0'])\n",
    "\n",
    "\n",
    "\n",
    "\n"
   ],
   "metadata": {
    "collapsed": false,
    "pycharm": {
     "name": "#%%\n",
     "is_executing": false
    }
   }
  }
 ],
 "metadata": {
  "kernelspec": {
   "display_name": "Python 3",
   "language": "python",
   "name": "python3"
  },
  "language_info": {
   "codemirror_mode": {
    "name": "ipython",
    "version": 2
   },
   "file_extension": ".py",
   "mimetype": "text/x-python",
   "name": "python",
   "nbconvert_exporter": "python",
   "pygments_lexer": "ipython2",
   "version": "2.7.6"
  },
  "pycharm": {
   "stem_cell": {
    "cell_type": "raw",
    "source": [],
    "metadata": {
     "collapsed": false
    }
   }
  }
 },
 "nbformat": 4,
 "nbformat_minor": 0
}